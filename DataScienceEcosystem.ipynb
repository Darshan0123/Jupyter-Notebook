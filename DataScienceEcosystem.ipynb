{
 "cells": [
  {
   "cell_type": "markdown",
   "id": "3d58803e-857d-42d7-b7c5-db8c20fcdf11",
   "metadata": {},
   "source": [
    "# Data Science Tools and Ecosystem"
   ]
  },
  {
   "cell_type": "markdown",
   "id": "7b302578-8076-4f3e-b48d-72b8db7e4665",
   "metadata": {},
   "source": [
    "# In this notebook, Data Science Tools and Ecosystem are summarized."
   ]
  },
  {
   "cell_type": "markdown",
   "id": "13185dff-92b1-4415-9bd4-881040297fe2",
   "metadata": {},
   "source": [
    "# Some of the popular languages that Data Scientists use are:"
   ]
  },
  {
   "cell_type": "markdown",
   "id": "5d012ece-6c9e-4cbd-9338-51dce9204b9d",
   "metadata": {},
   "source": [
    "1. Python\n",
    "2. SQL\n",
    "3. R\n",
    "4. Julia\n",
    "5. Java"
   ]
  },
  {
   "cell_type": "markdown",
   "id": "dace23a0-fe70-44fd-8fc2-765c7cbe3e4d",
   "metadata": {},
   "source": [
    "# Some of the commonly used libraries used by Data Scientists include:"
   ]
  },
  {
   "cell_type": "markdown",
   "id": "2dac09dd-ae4b-4379-8c0a-e0a2897ab843",
   "metadata": {
    "tags": []
   },
   "source": [
    "- Matplotlib\n",
    "- PyTorch\n",
    "- Pandas\n",
    "- TensorFlow\n",
    "- NumPy"
   ]
  },
  {
   "cell_type": "markdown",
   "id": "e081bb91-e53f-40c9-b7d9-891f23ce5f35",
   "metadata": {},
   "source": [
    "# Table"
   ]
  },
  {
   "cell_type": "markdown",
   "id": "ed85eeb7-1c84-4adf-abd8-620aafa486ce",
   "metadata": {},
   "source": [
    "|Data Science Tools|\n",
    "|------|\n",
    "|Jupyter Notebooks|\n",
    "|Zeppelin Notebooks|\n",
    "|R Studio's|"
   ]
  },
  {
   "cell_type": "markdown",
   "id": "549589f6-42ae-4610-a9ef-4a9a38237726",
   "metadata": {},
   "source": [
    "# Below are a few examples of evaluating arithmetic expressions in Python"
   ]
  },
  {
   "cell_type": "code",
   "execution_count": null,
   "id": "615ddb65-be19-4294-a7a7-ff9e8231ec1b",
   "metadata": {
    "tags": []
   },
   "outputs": [],
   "source": [
    "x = 12 + 2 \n",
    "print(x)"
   ]
  },
  {
   "cell_type": "code",
   "execution_count": null,
   "id": "0a8ddbde-1190-4fb5-a3b7-59932f81c0f2",
   "metadata": {
    "tags": []
   },
   "outputs": [],
   "source": [
    "x= 12*2\n",
    "print(x)"
   ]
  },
  {
   "cell_type": "code",
   "execution_count": null,
   "id": "50cdbefd-aca8-4eeb-be2c-d1571beefc70",
   "metadata": {
    "tags": []
   },
   "outputs": [],
   "source": [
    "x=12-2\n",
    "print(x)"
   ]
  },
  {
   "cell_type": "markdown",
   "id": "8005f91f-ae45-4978-8f6a-ea2bf131cc96",
   "metadata": {},
   "source": [
    "# This a simple arithmetic expression to mutiply then add integers"
   ]
  },
  {
   "cell_type": "code",
   "execution_count": null,
   "id": "b826a639-85f8-46f9-aacc-143a21600f48",
   "metadata": {
    "tags": []
   },
   "outputs": [],
   "source": [
    "x=(3*4)+5\n",
    "print(x)"
   ]
  },
  {
   "cell_type": "markdown",
   "id": "0284bda7-e588-4157-be45-0cd343125d02",
   "metadata": {},
   "source": [
    "# This will convert 200 minutes to hours by diving by 60"
   ]
  },
  {
   "cell_type": "markdown",
   "id": "fe1b0b91-a814-47f6-a475-8bd19a008eb1",
   "metadata": {},
   "source": [
    "## where x is time in minutes\n",
    "## y is time in hours\n",
    "## results in hours\n"
   ]
  },
  {
   "cell_type": "code",
   "execution_count": 17,
   "id": "a2a391d3-535b-45ff-9254-cb3fa9f9fbf6",
   "metadata": {
    "tags": []
   },
   "outputs": [
    {
     "name": "stdout",
     "output_type": "stream",
     "text": [
      "3.3333333333333335\n"
     ]
    }
   ],
   "source": [
    "x = 200\n",
    "y = 60\n",
    "print(x/y)\n"
   ]
  },
  {
   "cell_type": "markdown",
   "id": "878f81bb-a49b-44d4-ad0e-81b7b78cec01",
   "metadata": {},
   "source": [
    "## Author"
   ]
  },
  {
   "cell_type": "markdown",
   "id": "c40df3b7-e293-4068-a82e-fec9b4d29f81",
   "metadata": {},
   "source": [
    "Darshan"
   ]
  },
  {
   "cell_type": "code",
   "execution_count": null,
   "id": "481536de-82ad-4c70-b2b3-01e47f4f815b",
   "metadata": {},
   "outputs": [],
   "source": []
  }
 ],
 "metadata": {
  "kernelspec": {
   "display_name": "Python",
   "language": "python",
   "name": "conda-env-python-py"
  },
  "language_info": {
   "codemirror_mode": {
    "name": "ipython",
    "version": 3
   },
   "file_extension": ".py",
   "mimetype": "text/x-python",
   "name": "python",
   "nbconvert_exporter": "python",
   "pygments_lexer": "ipython3",
   "version": "3.7.12"
  }
 },
 "nbformat": 4,
 "nbformat_minor": 5
}
